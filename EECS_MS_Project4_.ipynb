{
  "nbformat": 4,
  "nbformat_minor": 0,
  "metadata": {
    "colab": {
      "name": "EECS_MS_Project4 .ipynb",
      "provenance": [],
      "authorship_tag": "ABX9TyNdmGijqS990Hu1Fix/+7d3",
      "include_colab_link": true
    },
    "kernelspec": {
      "name": "python3",
      "display_name": "Python 3"
    }
  },
  "cells": [
    {
      "cell_type": "markdown",
      "metadata": {
        "id": "view-in-github",
        "colab_type": "text"
      },
      "source": [
        "<a href=\"https://colab.research.google.com/github/m677s345/EECS731_MS_Project4/blob/main/EECS_MS_Project4_.ipynb\" target=\"_parent\"><img src=\"https://colab.research.google.com/assets/colab-badge.svg\" alt=\"Open In Colab\"/></a>"
      ]
    },
    {
      "cell_type": "markdown",
      "metadata": {
        "id": "VIT_wWvbhBQp"
      },
      "source": [
        "# Packages and Data Cleaning"
      ]
    },
    {
      "cell_type": "code",
      "metadata": {
        "id": "wjiYormWERJg",
        "outputId": "dcbf10b8-1be5-4d6b-a078-4052995680b9",
        "colab": {
          "base_uri": "https://localhost:8080/",
          "height": 697
        }
      },
      "source": [
        "!pip install cookiecutter\n",
        "!cookiecutter https://github.com/drivendata/cookiecutter-data-science\n"
      ],
      "execution_count": 1,
      "outputs": [
        {
          "output_type": "stream",
          "text": [
            "Collecting cookiecutter\n",
            "  Downloading https://files.pythonhosted.org/packages/95/83/83ebf950ec99b02c61719ccb116462844ba2e873df7c4d40afc962494312/cookiecutter-1.7.2-py2.py3-none-any.whl\n",
            "Requirement already satisfied: MarkupSafe<2.0.0 in /usr/local/lib/python3.6/dist-packages (from cookiecutter) (1.1.1)\n",
            "Requirement already satisfied: click>=7.0 in /usr/local/lib/python3.6/dist-packages (from cookiecutter) (7.1.2)\n",
            "Requirement already satisfied: requests>=2.23.0 in /usr/local/lib/python3.6/dist-packages (from cookiecutter) (2.23.0)\n",
            "Requirement already satisfied: python-slugify>=4.0.0 in /usr/local/lib/python3.6/dist-packages (from cookiecutter) (4.0.1)\n",
            "Requirement already satisfied: Jinja2<3.0.0 in /usr/local/lib/python3.6/dist-packages (from cookiecutter) (2.11.2)\n",
            "Collecting binaryornot>=0.4.4\n",
            "  Downloading https://files.pythonhosted.org/packages/24/7e/f7b6f453e6481d1e233540262ccbfcf89adcd43606f44a028d7f5fae5eb2/binaryornot-0.4.4-py2.py3-none-any.whl\n",
            "Collecting jinja2-time>=0.2.0\n",
            "  Downloading https://files.pythonhosted.org/packages/6a/a1/d44fa38306ffa34a7e1af09632b158e13ec89670ce491f8a15af3ebcb4e4/jinja2_time-0.2.0-py2.py3-none-any.whl\n",
            "Collecting poyo>=0.5.0\n",
            "  Downloading https://files.pythonhosted.org/packages/42/50/0b0820601bde2eda403f47b9a4a1f270098ed0dd4c00c443d883164bdccc/poyo-0.5.0-py2.py3-none-any.whl\n",
            "Requirement already satisfied: six>=1.10 in /usr/local/lib/python3.6/dist-packages (from cookiecutter) (1.15.0)\n",
            "Requirement already satisfied: urllib3!=1.25.0,!=1.25.1,<1.26,>=1.21.1 in /usr/local/lib/python3.6/dist-packages (from requests>=2.23.0->cookiecutter) (1.24.3)\n",
            "Requirement already satisfied: chardet<4,>=3.0.2 in /usr/local/lib/python3.6/dist-packages (from requests>=2.23.0->cookiecutter) (3.0.4)\n",
            "Requirement already satisfied: idna<3,>=2.5 in /usr/local/lib/python3.6/dist-packages (from requests>=2.23.0->cookiecutter) (2.10)\n",
            "Requirement already satisfied: certifi>=2017.4.17 in /usr/local/lib/python3.6/dist-packages (from requests>=2.23.0->cookiecutter) (2020.6.20)\n",
            "Requirement already satisfied: text-unidecode>=1.3 in /usr/local/lib/python3.6/dist-packages (from python-slugify>=4.0.0->cookiecutter) (1.3)\n",
            "Collecting arrow\n",
            "\u001b[?25l  Downloading https://files.pythonhosted.org/packages/ed/d2/aa994f2d8dd442113c753041761dc0732a35def05538de48f61adb28642a/arrow-0.16.0-py2.py3-none-any.whl (50kB)\n",
            "\u001b[K     |████████████████████████████████| 51kB 3.6MB/s \n",
            "\u001b[?25hRequirement already satisfied: python-dateutil>=2.7.0 in /usr/local/lib/python3.6/dist-packages (from arrow->jinja2-time>=0.2.0->cookiecutter) (2.8.1)\n",
            "Installing collected packages: binaryornot, arrow, jinja2-time, poyo, cookiecutter\n",
            "Successfully installed arrow-0.16.0 binaryornot-0.4.4 cookiecutter-1.7.2 jinja2-time-0.2.0 poyo-0.5.0\n",
            "project_name [project_name]: \n",
            "repo_name [project_name]: \n",
            "author_name [Your name (or your organization/company/team)]: \n",
            "description [A short description of the project.]: \n",
            "Select open_source_license:\n",
            "1 - MIT\n",
            "2 - BSD-3-Clause\n",
            "3 - No license file\n",
            "Choose from 1, 2, 3 [1]: \n",
            "s3_bucket [[OPTIONAL] your-bucket-for-syncing-data (do not include 's3://')]: \n",
            "aws_profile [default]: \n",
            "Select python_interpreter:\n",
            "1 - python3\n",
            "2 - python\n",
            "Choose from 1, 2 [1]: \n"
          ],
          "name": "stdout"
        }
      ]
    },
    {
      "cell_type": "code",
      "metadata": {
        "id": "XQfYRG3zGg9H",
        "outputId": "8b118bef-7799-4524-d43a-36e6dc7c3de0",
        "colab": {
          "base_uri": "https://localhost:8080/",
          "height": 221
        }
      },
      "source": [
        "\n",
        "import pandas as pd\n",
        "import numpy as np\n",
        "\n",
        "from sklearn import preprocessing\n",
        "from sklearn.metrics import r2_score\n",
        "from sklearn.ensemble import RandomForestRegressor\n",
        "from sklearn.neural_network import MLPRegressor\n",
        "from sklearn.model_selection import train_test_split\n",
        "from sklearn.metrics import accuracy_score\n",
        "import matplotlib.pyplot as plt\n",
        "from sklearn.model_selection import KFold\n",
        "from sklearn.model_selection import cross_val_score\n",
        "from sklearn.preprocessing import MinMaxScaler\n",
        "from sklearn.svm import SVR\n",
        "!pip install heatmapz\n",
        "from heatmap import heatmap, corrplot\n",
        "df_games = pd.read_csv('/content/project_name/data/raw/mlb_elo.csv',header=0)"
      ],
      "execution_count": 75,
      "outputs": [
        {
          "output_type": "stream",
          "text": [
            "Requirement already satisfied: heatmapz in /usr/local/lib/python3.6/dist-packages (0.0.4)\n",
            "Requirement already satisfied: matplotlib>=3.0.3 in /usr/local/lib/python3.6/dist-packages (from heatmapz) (3.2.2)\n",
            "Requirement already satisfied: pandas in /usr/local/lib/python3.6/dist-packages (from heatmapz) (1.1.2)\n",
            "Requirement already satisfied: seaborn in /usr/local/lib/python3.6/dist-packages (from heatmapz) (0.11.0)\n",
            "Requirement already satisfied: kiwisolver>=1.0.1 in /usr/local/lib/python3.6/dist-packages (from matplotlib>=3.0.3->heatmapz) (1.2.0)\n",
            "Requirement already satisfied: numpy>=1.11 in /usr/local/lib/python3.6/dist-packages (from matplotlib>=3.0.3->heatmapz) (1.18.5)\n",
            "Requirement already satisfied: pyparsing!=2.0.4,!=2.1.2,!=2.1.6,>=2.0.1 in /usr/local/lib/python3.6/dist-packages (from matplotlib>=3.0.3->heatmapz) (2.4.7)\n",
            "Requirement already satisfied: python-dateutil>=2.1 in /usr/local/lib/python3.6/dist-packages (from matplotlib>=3.0.3->heatmapz) (2.8.1)\n",
            "Requirement already satisfied: cycler>=0.10 in /usr/local/lib/python3.6/dist-packages (from matplotlib>=3.0.3->heatmapz) (0.10.0)\n",
            "Requirement already satisfied: pytz>=2017.2 in /usr/local/lib/python3.6/dist-packages (from pandas->heatmapz) (2018.9)\n",
            "Requirement already satisfied: scipy>=1.0 in /usr/local/lib/python3.6/dist-packages (from seaborn->heatmapz) (1.4.1)\n",
            "Requirement already satisfied: six>=1.5 in /usr/local/lib/python3.6/dist-packages (from python-dateutil>=2.1->matplotlib>=3.0.3->heatmapz) (1.15.0)\n"
          ],
          "name": "stdout"
        }
      ]
    },
    {
      "cell_type": "markdown",
      "metadata": {
        "id": "aQYeq5GpKdqv"
      },
      "source": [
        "Column\tDefinition\n",
        "\n",
        "\n",
        "---\n",
        "\n",
        "\n",
        "date\tDate of game\n",
        "\n",
        "* season\tYear of season\n",
        "\n",
        "* neutral\tWhether game was on a neutral site\n",
        "\n",
        "* playoff\tWhether game was in playoffs, and the playoff round if so\n",
        "\n",
        "* team1\tAbbreviation for home team\n",
        "\n",
        "* team2\tAbbreviation for away team\n",
        "\n",
        "* elo1_pre\tHome team's Elo rating before the game\n",
        "\n",
        "* elo2_pre\tAway team's Elo rating before the game\n",
        "\n",
        "* elo_prob1\tHome team's probability of winning according to Elo ratings\n",
        "\n",
        "* elo_prob2\tAway team's probability of winning according to Elo ratings\n",
        "\n",
        "* elo1_post\tHome team's Elo rating after the game\n",
        "\n",
        "* elo2_post\tAway team's Elo rating after the game\n",
        "\n",
        "* rating1_pre\tHome team's rating before the game\n",
        "\n",
        "* rating2_pre\tAway team's rating before the game\n",
        "\n",
        "* pitcher1\tName of home starting pitcher\n",
        "\n",
        "* pitcher2\tName of away starting pitcher\n",
        "\n",
        "* pitcher1_rgs\tHome starting pitcher's rolling game score before the game\n",
        "\n",
        "* pitcher2_rgs\tAway starting pitcher's rolling game score before the game\n",
        "\n",
        "* pitcher1_adj\tHome starting pitcher's adjustment to their team's rating\n",
        "\n",
        "* pitcher2_adj\tAway starting pitcher's adjustment to their team's rating\n",
        "\n",
        "* rating_prob1\tHome team's probability of winning according to team ratings and \n",
        "starting pitchers\n",
        "\n",
        "* rating_prob2\tAway team's probability of winning according to team ratings and starting pitchers\n",
        "\n",
        "* rating1_post\tHome team's rating after the game\n",
        "\n",
        "* rating2_post\tAway team's rating after the game\n",
        "\n",
        "* score1\tHome team's score\n",
        "\n",
        "* score2\tAway team's score"
      ]
    },
    {
      "cell_type": "markdown",
      "metadata": {
        "id": "d_oru8liRbtX"
      },
      "source": [
        "Cleaning up the data I assumed that the data for the past 20 years will give over 50000 instances to use and that data was of a higher quality than previous data. I also assumed that playoffs and turf were not useful in the determination of the score. I choose to drop some of the attributes listed because they are used in other columns of the dataset and are incorperated into a value there. One thing to note about this dataset is the lack of specific statistics relating to the score. For instance the MLB has a stastic that relates to the number of runs allowed by a pitcher. I think in order to accuratly predict the score of a contest you need to have direct scoring information for both teams offense and defence in a runs alowed and runs scored per game column. "
      ]
    },
    {
      "cell_type": "code",
      "metadata": {
        "id": "nBU0tPZ7G1uw"
      },
      "source": [
        "df_games = df_games.drop(df_games.index[0:20],0,inplace=False)\n",
        "df_games = df_games.drop(df_games.index[50100:],0,inplace=False)\n",
        "df_games = df_games.drop(['neutral','playoff','pitcher2_rgs','pitcher1_rgs','pitcher1_adj','pitcher2_adj','elo_prob1','elo_prob2',],axis=1)"
      ],
      "execution_count": 76,
      "outputs": []
    },
    {
      "cell_type": "markdown",
      "metadata": {
        "id": "wDEI5qsgLlwr"
      },
      "source": [
        "Below we are making sure that the dataset does not include any Null values. We can see that the features we have retained make it so that there are no values missing."
      ]
    },
    {
      "cell_type": "code",
      "metadata": {
        "id": "u1PeBtneKOZf",
        "outputId": "dcdda92c-3709-47b5-ec3d-875fd8a2473f",
        "colab": {
          "base_uri": "https://localhost:8080/",
          "height": 326
        }
      },
      "source": [
        "print(df_games.isnull().sum(axis=0).tolist())\n",
        "df_games.tail()"
      ],
      "execution_count": 91,
      "outputs": [
        {
          "output_type": "stream",
          "text": [
            "[0, 0, 0, 0, 0, 0, 0, 0, 0, 0, 0, 0, 0, 0, 0, 0, 0, 0, 0, 0, 0, 0]\n"
          ],
          "name": "stdout"
        },
        {
          "output_type": "execute_result",
          "data": {
            "text/html": [
              "<div>\n",
              "<style scoped>\n",
              "    .dataframe tbody tr th:only-of-type {\n",
              "        vertical-align: middle;\n",
              "    }\n",
              "\n",
              "    .dataframe tbody tr th {\n",
              "        vertical-align: top;\n",
              "    }\n",
              "\n",
              "    .dataframe thead th {\n",
              "        text-align: right;\n",
              "    }\n",
              "</style>\n",
              "<table border=\"1\" class=\"dataframe\">\n",
              "  <thead>\n",
              "    <tr style=\"text-align: right;\">\n",
              "      <th></th>\n",
              "      <th>date</th>\n",
              "      <th>season</th>\n",
              "      <th>team1</th>\n",
              "      <th>team2</th>\n",
              "      <th>elo1_pre</th>\n",
              "      <th>elo2_pre</th>\n",
              "      <th>elo1_post</th>\n",
              "      <th>elo2_post</th>\n",
              "      <th>rating1_pre</th>\n",
              "      <th>rating2_pre</th>\n",
              "      <th>pitcher1</th>\n",
              "      <th>pitcher2</th>\n",
              "      <th>rating_prob1</th>\n",
              "      <th>rating_prob2</th>\n",
              "      <th>rating1_post</th>\n",
              "      <th>rating2_post</th>\n",
              "      <th>score1</th>\n",
              "      <th>score2</th>\n",
              "      <th>del_elo1</th>\n",
              "      <th>del_elo2</th>\n",
              "      <th>del_rating1</th>\n",
              "      <th>del_rating2</th>\n",
              "    </tr>\n",
              "  </thead>\n",
              "  <tbody>\n",
              "    <tr>\n",
              "      <th>50115</th>\n",
              "      <td>2000-04-09</td>\n",
              "      <td>2000</td>\n",
              "      <td>3</td>\n",
              "      <td>10</td>\n",
              "      <td>1519.075</td>\n",
              "      <td>1471.001</td>\n",
              "      <td>1521.171</td>\n",
              "      <td>1468.905</td>\n",
              "      <td>1518.577</td>\n",
              "      <td>1470.338</td>\n",
              "      <td>1360</td>\n",
              "      <td>1408</td>\n",
              "      <td>0.602488</td>\n",
              "      <td>0.397512</td>\n",
              "      <td>1520.664</td>\n",
              "      <td>1468.251</td>\n",
              "      <td>11.0</td>\n",
              "      <td>6.0</td>\n",
              "      <td>-0.349333</td>\n",
              "      <td>0.349333</td>\n",
              "      <td>4.355569</td>\n",
              "      <td>4.355569</td>\n",
              "    </tr>\n",
              "    <tr>\n",
              "      <th>50116</th>\n",
              "      <td>2000-04-09</td>\n",
              "      <td>2000</td>\n",
              "      <td>2</td>\n",
              "      <td>24</td>\n",
              "      <td>1551.246</td>\n",
              "      <td>1518.023</td>\n",
              "      <td>1553.782</td>\n",
              "      <td>1515.487</td>\n",
              "      <td>1550.102</td>\n",
              "      <td>1518.745</td>\n",
              "      <td>1140</td>\n",
              "      <td>1426</td>\n",
              "      <td>0.578998</td>\n",
              "      <td>0.421002</td>\n",
              "      <td>1552.720</td>\n",
              "      <td>1516.127</td>\n",
              "      <td>9.0</td>\n",
              "      <td>3.0</td>\n",
              "      <td>-0.845333</td>\n",
              "      <td>0.845333</td>\n",
              "      <td>6.853924</td>\n",
              "      <td>6.853924</td>\n",
              "    </tr>\n",
              "    <tr>\n",
              "      <th>50117</th>\n",
              "      <td>2000-04-09</td>\n",
              "      <td>2000</td>\n",
              "      <td>1</td>\n",
              "      <td>21</td>\n",
              "      <td>1544.483</td>\n",
              "      <td>1495.919</td>\n",
              "      <td>1545.493</td>\n",
              "      <td>1494.909</td>\n",
              "      <td>1539.121</td>\n",
              "      <td>1495.767</td>\n",
              "      <td>1245</td>\n",
              "      <td>1563</td>\n",
              "      <td>0.595734</td>\n",
              "      <td>0.404266</td>\n",
              "      <td>1539.847</td>\n",
              "      <td>1495.040</td>\n",
              "      <td>1.0</td>\n",
              "      <td>0.0</td>\n",
              "      <td>-inf</td>\n",
              "      <td>inf</td>\n",
              "      <td>0.527076</td>\n",
              "      <td>0.528529</td>\n",
              "    </tr>\n",
              "    <tr>\n",
              "      <th>50118</th>\n",
              "      <td>2000-04-09</td>\n",
              "      <td>2000</td>\n",
              "      <td>0</td>\n",
              "      <td>4</td>\n",
              "      <td>1484.871</td>\n",
              "      <td>1527.637</td>\n",
              "      <td>1482.883</td>\n",
              "      <td>1529.625</td>\n",
              "      <td>1485.330</td>\n",
              "      <td>1528.626</td>\n",
              "      <td>964</td>\n",
              "      <td>1331</td>\n",
              "      <td>0.472259</td>\n",
              "      <td>0.527741</td>\n",
              "      <td>1484.073</td>\n",
              "      <td>1529.882</td>\n",
              "      <td>2.0</td>\n",
              "      <td>5.0</td>\n",
              "      <td>0.397600</td>\n",
              "      <td>-0.397600</td>\n",
              "      <td>1.580049</td>\n",
              "      <td>1.577536</td>\n",
              "    </tr>\n",
              "    <tr>\n",
              "      <th>50119</th>\n",
              "      <td>2000-04-08</td>\n",
              "      <td>2000</td>\n",
              "      <td>29</td>\n",
              "      <td>22</td>\n",
              "      <td>1472.601</td>\n",
              "      <td>1503.061</td>\n",
              "      <td>1473.998</td>\n",
              "      <td>1501.664</td>\n",
              "      <td>1475.563</td>\n",
              "      <td>1507.857</td>\n",
              "      <td>1197</td>\n",
              "      <td>1212</td>\n",
              "      <td>0.488066</td>\n",
              "      <td>0.511934</td>\n",
              "      <td>1476.964</td>\n",
              "      <td>1506.455</td>\n",
              "      <td>10.0</td>\n",
              "      <td>9.0</td>\n",
              "      <td>-0.155222</td>\n",
              "      <td>0.155222</td>\n",
              "      <td>1.962801</td>\n",
              "      <td>1.965604</td>\n",
              "    </tr>\n",
              "  </tbody>\n",
              "</table>\n",
              "</div>"
            ],
            "text/plain": [
              "             date  season  team1  ...  del_elo2  del_rating1  del_rating2\n",
              "50115  2000-04-09    2000      3  ...  0.349333     4.355569     4.355569\n",
              "50116  2000-04-09    2000      2  ...  0.845333     6.853924     6.853924\n",
              "50117  2000-04-09    2000      1  ...       inf     0.527076     0.528529\n",
              "50118  2000-04-09    2000      0  ... -0.397600     1.580049     1.577536\n",
              "50119  2000-04-08    2000     29  ...  0.155222     1.962801     1.965604\n",
              "\n",
              "[5 rows x 22 columns]"
            ]
          },
          "metadata": {
            "tags": []
          },
          "execution_count": 91
        }
      ]
    },
    {
      "cell_type": "markdown",
      "metadata": {
        "id": "P5ws6fivg8KK"
      },
      "source": [
        "# Feature Engineering"
      ]
    },
    {
      "cell_type": "markdown",
      "metadata": {
        "id": "t0CMLf-5UxuN"
      },
      "source": [
        "Encoding team names and pitchers so they can be used as features. Some teams have higher chance of scoring per game than others and certain pitchers give up more runs. Hopefully these can be useful in determining the likelyhood of scoring certain amounts of runs. "
      ]
    },
    {
      "cell_type": "code",
      "metadata": {
        "id": "L9fVbMzOTmET",
        "outputId": "7f44809e-fae1-4f01-fc14-10e3cc9dba20",
        "colab": {
          "base_uri": "https://localhost:8080/",
          "height": 309
        }
      },
      "source": [
        "le_team = preprocessing.LabelEncoder()\n",
        "le_team.fit(df_games['team1'].append(df_games['team2']))\n",
        "df_games['team1'] = le_team.transform(df_games['team1'])\n",
        "df_games['team2'] = le_team.transform(df_games['team2'])\n",
        "df_games.head()"
      ],
      "execution_count": 79,
      "outputs": [
        {
          "output_type": "execute_result",
          "data": {
            "text/html": [
              "<div>\n",
              "<style scoped>\n",
              "    .dataframe tbody tr th:only-of-type {\n",
              "        vertical-align: middle;\n",
              "    }\n",
              "\n",
              "    .dataframe tbody tr th {\n",
              "        vertical-align: top;\n",
              "    }\n",
              "\n",
              "    .dataframe thead th {\n",
              "        text-align: right;\n",
              "    }\n",
              "</style>\n",
              "<table border=\"1\" class=\"dataframe\">\n",
              "  <thead>\n",
              "    <tr style=\"text-align: right;\">\n",
              "      <th></th>\n",
              "      <th>date</th>\n",
              "      <th>season</th>\n",
              "      <th>team1</th>\n",
              "      <th>team2</th>\n",
              "      <th>elo1_pre</th>\n",
              "      <th>elo2_pre</th>\n",
              "      <th>elo1_post</th>\n",
              "      <th>elo2_post</th>\n",
              "      <th>rating1_pre</th>\n",
              "      <th>rating2_pre</th>\n",
              "      <th>pitcher1</th>\n",
              "      <th>pitcher2</th>\n",
              "      <th>rating_prob1</th>\n",
              "      <th>rating_prob2</th>\n",
              "      <th>rating1_post</th>\n",
              "      <th>rating2_post</th>\n",
              "      <th>score1</th>\n",
              "      <th>score2</th>\n",
              "    </tr>\n",
              "  </thead>\n",
              "  <tbody>\n",
              "    <tr>\n",
              "      <th>20</th>\n",
              "      <td>2020-10-02</td>\n",
              "      <td>2020</td>\n",
              "      <td>22</td>\n",
              "      <td>25</td>\n",
              "      <td>1522.312734</td>\n",
              "      <td>1520.100045</td>\n",
              "      <td>1525.832831</td>\n",
              "      <td>1516.579948</td>\n",
              "      <td>1530.728125</td>\n",
              "      <td>1513.055229</td>\n",
              "      <td>Craig Stammen</td>\n",
              "      <td>Jack Flaherty</td>\n",
              "      <td>0.461857</td>\n",
              "      <td>0.538143</td>\n",
              "      <td>1534.038131</td>\n",
              "      <td>1509.745224</td>\n",
              "      <td>4.0</td>\n",
              "      <td>0.0</td>\n",
              "    </tr>\n",
              "    <tr>\n",
              "      <th>21</th>\n",
              "      <td>2020-10-02</td>\n",
              "      <td>2020</td>\n",
              "      <td>5</td>\n",
              "      <td>11</td>\n",
              "      <td>1517.011886</td>\n",
              "      <td>1478.403936</td>\n",
              "      <td>1513.409248</td>\n",
              "      <td>1482.006574</td>\n",
              "      <td>1520.999030</td>\n",
              "      <td>1472.069596</td>\n",
              "      <td>Yu Darvish</td>\n",
              "      <td>Sixto Sanchez</td>\n",
              "      <td>0.673112</td>\n",
              "      <td>0.326888</td>\n",
              "      <td>1517.959644</td>\n",
              "      <td>1475.108982</td>\n",
              "      <td>0.0</td>\n",
              "      <td>2.0</td>\n",
              "    </tr>\n",
              "    <tr>\n",
              "      <th>22</th>\n",
              "      <td>2020-10-01</td>\n",
              "      <td>2020</td>\n",
              "      <td>14</td>\n",
              "      <td>15</td>\n",
              "      <td>1596.678175</td>\n",
              "      <td>1502.693145</td>\n",
              "      <td>1598.290926</td>\n",
              "      <td>1501.080394</td>\n",
              "      <td>1604.605528</td>\n",
              "      <td>1508.163888</td>\n",
              "      <td>Clayton Kershaw</td>\n",
              "      <td>Brandon Woodruff</td>\n",
              "      <td>0.673916</td>\n",
              "      <td>0.326084</td>\n",
              "      <td>1606.065971</td>\n",
              "      <td>1506.703444</td>\n",
              "      <td>3.0</td>\n",
              "      <td>0.0</td>\n",
              "    </tr>\n",
              "    <tr>\n",
              "      <th>23</th>\n",
              "      <td>2020-10-01</td>\n",
              "      <td>2020</td>\n",
              "      <td>22</td>\n",
              "      <td>25</td>\n",
              "      <td>1519.722828</td>\n",
              "      <td>1522.689951</td>\n",
              "      <td>1522.312734</td>\n",
              "      <td>1520.100045</td>\n",
              "      <td>1528.808158</td>\n",
              "      <td>1514.975196</td>\n",
              "      <td>Zach Davies</td>\n",
              "      <td>Adam Wainwright</td>\n",
              "      <td>0.544395</td>\n",
              "      <td>0.455605</td>\n",
              "      <td>1530.728125</td>\n",
              "      <td>1513.055229</td>\n",
              "      <td>11.0</td>\n",
              "      <td>9.0</td>\n",
              "    </tr>\n",
              "    <tr>\n",
              "      <th>24</th>\n",
              "      <td>2020-10-01</td>\n",
              "      <td>2020</td>\n",
              "      <td>19</td>\n",
              "      <td>6</td>\n",
              "      <td>1545.674260</td>\n",
              "      <td>1507.785767</td>\n",
              "      <td>1547.618027</td>\n",
              "      <td>1505.842000</td>\n",
              "      <td>1531.215901</td>\n",
              "      <td>1515.390101</td>\n",
              "      <td>Mike Fiers</td>\n",
              "      <td>Dane Dunning</td>\n",
              "      <td>0.558056</td>\n",
              "      <td>0.441944</td>\n",
              "      <td>1532.981409</td>\n",
              "      <td>1513.624593</td>\n",
              "      <td>6.0</td>\n",
              "      <td>4.0</td>\n",
              "    </tr>\n",
              "  </tbody>\n",
              "</table>\n",
              "</div>"
            ],
            "text/plain": [
              "          date  season  team1  ...  rating2_post  score1  score2\n",
              "20  2020-10-02    2020     22  ...   1509.745224     4.0     0.0\n",
              "21  2020-10-02    2020      5  ...   1475.108982     0.0     2.0\n",
              "22  2020-10-01    2020     14  ...   1506.703444     3.0     0.0\n",
              "23  2020-10-01    2020     22  ...   1513.055229    11.0     9.0\n",
              "24  2020-10-01    2020     19  ...   1513.624593     6.0     4.0\n",
              "\n",
              "[5 rows x 18 columns]"
            ]
          },
          "metadata": {
            "tags": []
          },
          "execution_count": 79
        }
      ]
    },
    {
      "cell_type": "code",
      "metadata": {
        "id": "Ld_jPGI-VYnd",
        "outputId": "a40fb4c8-744d-46f7-8bab-0e617da0f58f",
        "colab": {
          "base_uri": "https://localhost:8080/",
          "height": 309
        }
      },
      "source": [
        "le_pitchers = preprocessing.LabelEncoder()\n",
        "le_pitchers.fit(df_games['pitcher1'].append(df_games['pitcher2']))\n",
        "df_games['pitcher1'] = le_pitchers.transform(df_games['pitcher1'])\n",
        "df_games['pitcher2'] = le_pitchers.transform(df_games['pitcher2'])\n",
        "df_games.head()"
      ],
      "execution_count": 94,
      "outputs": [
        {
          "output_type": "execute_result",
          "data": {
            "text/html": [
              "<div>\n",
              "<style scoped>\n",
              "    .dataframe tbody tr th:only-of-type {\n",
              "        vertical-align: middle;\n",
              "    }\n",
              "\n",
              "    .dataframe tbody tr th {\n",
              "        vertical-align: top;\n",
              "    }\n",
              "\n",
              "    .dataframe thead th {\n",
              "        text-align: right;\n",
              "    }\n",
              "</style>\n",
              "<table border=\"1\" class=\"dataframe\">\n",
              "  <thead>\n",
              "    <tr style=\"text-align: right;\">\n",
              "      <th></th>\n",
              "      <th>date</th>\n",
              "      <th>season</th>\n",
              "      <th>team1</th>\n",
              "      <th>team2</th>\n",
              "      <th>elo1_pre</th>\n",
              "      <th>elo2_pre</th>\n",
              "      <th>elo1_post</th>\n",
              "      <th>elo2_post</th>\n",
              "      <th>rating1_pre</th>\n",
              "      <th>rating2_pre</th>\n",
              "      <th>pitcher1</th>\n",
              "      <th>pitcher2</th>\n",
              "      <th>rating_prob1</th>\n",
              "      <th>rating_prob2</th>\n",
              "      <th>rating1_post</th>\n",
              "      <th>rating2_post</th>\n",
              "      <th>score1</th>\n",
              "      <th>score2</th>\n",
              "      <th>del_elo1</th>\n",
              "      <th>del_elo2</th>\n",
              "      <th>del_rating1</th>\n",
              "      <th>del_rating2</th>\n",
              "    </tr>\n",
              "  </thead>\n",
              "  <tbody>\n",
              "    <tr>\n",
              "      <th>20</th>\n",
              "      <td>2020-10-02</td>\n",
              "      <td>2020</td>\n",
              "      <td>22</td>\n",
              "      <td>25</td>\n",
              "      <td>1522.312734</td>\n",
              "      <td>1520.100045</td>\n",
              "      <td>1525.832831</td>\n",
              "      <td>1516.579948</td>\n",
              "      <td>1530.728125</td>\n",
              "      <td>1513.055229</td>\n",
              "      <td>209</td>\n",
              "      <td>350</td>\n",
              "      <td>0.461857</td>\n",
              "      <td>0.538143</td>\n",
              "      <td>1534.038131</td>\n",
              "      <td>1509.745224</td>\n",
              "      <td>4.0</td>\n",
              "      <td>0.0</td>\n",
              "      <td>12.391083</td>\n",
              "      <td>12.391083</td>\n",
              "      <td>10.956135</td>\n",
              "      <td>10.956135</td>\n",
              "    </tr>\n",
              "    <tr>\n",
              "      <th>21</th>\n",
              "      <td>2020-10-02</td>\n",
              "      <td>2020</td>\n",
              "      <td>5</td>\n",
              "      <td>11</td>\n",
              "      <td>1517.011886</td>\n",
              "      <td>1478.403936</td>\n",
              "      <td>1513.409248</td>\n",
              "      <td>1482.006574</td>\n",
              "      <td>1520.999030</td>\n",
              "      <td>1472.069596</td>\n",
              "      <td>854</td>\n",
              "      <td>738</td>\n",
              "      <td>0.673112</td>\n",
              "      <td>0.326888</td>\n",
              "      <td>1517.959644</td>\n",
              "      <td>1475.108982</td>\n",
              "      <td>0.0</td>\n",
              "      <td>2.0</td>\n",
              "      <td>12.978999</td>\n",
              "      <td>12.978999</td>\n",
              "      <td>9.237870</td>\n",
              "      <td>9.237870</td>\n",
              "    </tr>\n",
              "    <tr>\n",
              "      <th>22</th>\n",
              "      <td>2020-10-01</td>\n",
              "      <td>2020</td>\n",
              "      <td>14</td>\n",
              "      <td>15</td>\n",
              "      <td>1596.678175</td>\n",
              "      <td>1502.693145</td>\n",
              "      <td>1598.290926</td>\n",
              "      <td>1501.080394</td>\n",
              "      <td>1604.605528</td>\n",
              "      <td>1508.163888</td>\n",
              "      <td>185</td>\n",
              "      <td>99</td>\n",
              "      <td>0.673916</td>\n",
              "      <td>0.326084</td>\n",
              "      <td>1606.065971</td>\n",
              "      <td>1506.703444</td>\n",
              "      <td>3.0</td>\n",
              "      <td>0.0</td>\n",
              "      <td>2.600966</td>\n",
              "      <td>2.600966</td>\n",
              "      <td>2.132896</td>\n",
              "      <td>2.132896</td>\n",
              "    </tr>\n",
              "    <tr>\n",
              "      <th>23</th>\n",
              "      <td>2020-10-01</td>\n",
              "      <td>2020</td>\n",
              "      <td>22</td>\n",
              "      <td>25</td>\n",
              "      <td>1519.722828</td>\n",
              "      <td>1522.689951</td>\n",
              "      <td>1522.312734</td>\n",
              "      <td>1520.100045</td>\n",
              "      <td>1528.808158</td>\n",
              "      <td>1514.975196</td>\n",
              "      <td>860</td>\n",
              "      <td>16</td>\n",
              "      <td>0.544395</td>\n",
              "      <td>0.455605</td>\n",
              "      <td>1530.728125</td>\n",
              "      <td>1513.055229</td>\n",
              "      <td>11.0</td>\n",
              "      <td>9.0</td>\n",
              "      <td>6.707611</td>\n",
              "      <td>6.707611</td>\n",
              "      <td>3.686273</td>\n",
              "      <td>3.686273</td>\n",
              "    </tr>\n",
              "    <tr>\n",
              "      <th>24</th>\n",
              "      <td>2020-10-01</td>\n",
              "      <td>2020</td>\n",
              "      <td>19</td>\n",
              "      <td>6</td>\n",
              "      <td>1545.674260</td>\n",
              "      <td>1507.785767</td>\n",
              "      <td>1547.618027</td>\n",
              "      <td>1505.842000</td>\n",
              "      <td>1531.215901</td>\n",
              "      <td>1515.390101</td>\n",
              "      <td>596</td>\n",
              "      <td>218</td>\n",
              "      <td>0.558056</td>\n",
              "      <td>0.441944</td>\n",
              "      <td>1532.981409</td>\n",
              "      <td>1513.624593</td>\n",
              "      <td>6.0</td>\n",
              "      <td>4.0</td>\n",
              "      <td>3.778230</td>\n",
              "      <td>3.778230</td>\n",
              "      <td>3.117019</td>\n",
              "      <td>3.117019</td>\n",
              "    </tr>\n",
              "  </tbody>\n",
              "</table>\n",
              "</div>"
            ],
            "text/plain": [
              "          date  season  team1  ...   del_elo2  del_rating1  del_rating2\n",
              "20  2020-10-02    2020     22  ...  12.391083    10.956135    10.956135\n",
              "21  2020-10-02    2020      5  ...  12.978999     9.237870     9.237870\n",
              "22  2020-10-01    2020     14  ...   2.600966     2.132896     2.132896\n",
              "23  2020-10-01    2020     22  ...   6.707611     3.686273     3.686273\n",
              "24  2020-10-01    2020     19  ...   3.778230     3.117019     3.117019\n",
              "\n",
              "[5 rows x 22 columns]"
            ]
          },
          "metadata": {
            "tags": []
          },
          "execution_count": 94
        }
      ]
    },
    {
      "cell_type": "markdown",
      "metadata": {
        "id": "pBLBp2Cbj07K"
      },
      "source": [
        "Since all the statistics are embeded in different features we may be able to look at how those features change to predict the score of the game. For instance the decrease in the elo indicates a loss but the severity of the loss seems to impace the magnitude of the drop."
      ]
    },
    {
      "cell_type": "code",
      "metadata": {
        "id": "5APzvmUuhp5O"
      },
      "source": [
        "df_games['del_elo1']=pow((df_games['elo1_pre']-df_games['elo1_post']),3)\n",
        "df_games['del_elo2']=pow((df_games['elo2_pre']-df_games['elo2_post']),3)\n",
        "df_games['del_rating1']=pow((df_games['rating1_pre']-df_games['rating1_post']),3)\n",
        "df_games['del_rating2']=pow((df_games['rating2_pre']-df_games['rating2_post']),3)"
      ],
      "execution_count": 99,
      "outputs": []
    },
    {
      "cell_type": "markdown",
      "metadata": {
        "id": "uehkEb2aXEpH"
      },
      "source": [
        "Here we can see what has the higest correlation with the score for both teams. The size of each of the squares represent the magnitude of the coorelation I.E the strength where the color suggests the direction of the coorelation. We can see the features we have created have an inverse proportion to the team they represent but that coorelation is strong. "
      ]
    },
    {
      "cell_type": "code",
      "metadata": {
        "id": "q4TY25-xpMfr",
        "outputId": "4a39d126-2f4e-4c50-c431-453f51f87626",
        "colab": {
          "base_uri": "https://localhost:8080/",
          "height": 1000
        }
      },
      "source": [
        "print(df_games.corr()['score1'])\n",
        "print(df_games.corr()['score2'])\n",
        "corr = df_games.corr()['score1']\n",
        "plt.figure(figsize=(8, 8))\n",
        "corrplot(df_games.corr(), size_scale=300);\n"
      ],
      "execution_count": 100,
      "outputs": [
        {
          "output_type": "stream",
          "text": [
            "season         -0.044708\n",
            "team1          -0.027713\n",
            "team2           0.011855\n",
            "elo1_pre        0.062274\n",
            "elo2_pre       -0.082618\n",
            "elo1_post       0.108331\n",
            "elo2_post      -0.128724\n",
            "rating1_pre     0.062574\n",
            "rating2_pre    -0.083985\n",
            "pitcher1        0.028321\n",
            "pitcher2        0.063588\n",
            "rating_prob1    0.110692\n",
            "rating_prob2   -0.110692\n",
            "rating1_post    0.106199\n",
            "rating2_post   -0.127648\n",
            "score1          1.000000\n",
            "score2          0.037195\n",
            "del_elo1       -0.494332\n",
            "del_elo2        0.494331\n",
            "del_rating1    -0.477187\n",
            "del_rating2     0.477188\n",
            "Name: score1, dtype: float64\n",
            "season         -0.042288\n",
            "team1          -0.029881\n",
            "team2           0.005065\n",
            "elo1_pre       -0.087815\n",
            "elo2_pre        0.068900\n",
            "elo1_post      -0.137369\n",
            "elo2_post       0.118605\n",
            "rating1_pre    -0.089420\n",
            "rating2_pre     0.070266\n",
            "pitcher1        0.064138\n",
            "pitcher2        0.028000\n",
            "rating_prob1   -0.121614\n",
            "rating_prob2    0.121614\n",
            "rating1_post   -0.136340\n",
            "rating2_post    0.117314\n",
            "score1          0.037195\n",
            "score2          1.000000\n",
            "del_elo1        0.595809\n",
            "del_elo2       -0.595807\n",
            "del_rating1     0.577009\n",
            "del_rating2    -0.577014\n",
            "Name: score2, dtype: float64\n"
          ],
          "name": "stdout"
        },
        {
          "output_type": "display_data",
          "data": {
            "image/png": "[encoded data removed]",
            "text/plain": [
              "<Figure size 576x576 with 2 Axes>"
            ]
          },
          "metadata": {
            "tags": [],
            "needs_background": "light"
          }
        }
      ]
    },
    {
      "cell_type": "code",
      "metadata": {
        "id": "Hi6jeAnYXZMy"
      },
      "source": [
        "\n",
        "# Creating test and train split\n",
        "scores = pd.DataFrame(df_games['score1'])\n",
        "scores['score2'] = df_games['score2']\n",
        "score=scores.values\n",
        "features = df_games[['team1','team2','del_elo1','del_elo2','pitcher1','pitcher2', 'rating_prob1', 'rating_prob2', 'del_rating1', 'del_rating2' ]]\n",
        "X_train1, X_test1, y_train1, y_test1 = train_test_split(features, scores, test_size=0.1)"
      ],
      "execution_count": 101,
      "outputs": []
    },
    {
      "cell_type": "code",
      "metadata": {
        "id": "rXioZ4TfIScY",
        "outputId": "16b64306-6c46-4a70-bfdc-3312366e939c",
        "colab": {
          "base_uri": "https://localhost:8080/",
          "height": 136
        }
      },
      "source": [
        "print(score)"
      ],
      "execution_count": 102,
      "outputs": [
        {
          "output_type": "stream",
          "text": [
            "[[ 4.  0.]\n",
            " [ 0.  2.]\n",
            " [ 3.  0.]\n",
            " ...\n",
            " [ 1.  0.]\n",
            " [ 2.  5.]\n",
            " [10.  9.]]\n"
          ],
          "name": "stdout"
        }
      ]
    },
    {
      "cell_type": "markdown",
      "metadata": {
        "id": "Pwww14EgvNI9"
      },
      "source": [
        "# Model Selection "
      ]
    },
    {
      "cell_type": "markdown",
      "metadata": {
        "id": "Xp5QR9MQq3ir"
      },
      "source": [
        "Creating a random tree ensamble to handle the regression was something that has been done by several people looking to predict win loss statistics. This use for the model is far better than the use for this project because winning or losing is a binary choice where there are a finite but large number of scoring combinations for guesssing runs. However this is the first instance of seeing how well we can use the difference in rating pre and post game to predict the score of the game. A score of 54 percent accurate is something I was very happy with."
      ]
    },
    {
      "cell_type": "code",
      "metadata": {
        "id": "-ca9DpOzYnja",
        "outputId": "b75991d2-9bfd-4636-ae3e-eb93b0a49f27",
        "colab": {
          "base_uri": "https://localhost:8080/",
          "height": 88
        }
      },
      "source": [
        "parameters = {'bootstrap': False,\n",
        "              'min_samples_leaf': 3,\n",
        "              'n_estimators': 100,\n",
        "              'min_samples_split': 10,\n",
        "              'max_features': 'sqrt',\n",
        "              'max_depth': 6}\n",
        "model = RandomForestRegressor(**parameters)\n",
        "model.fit(X_train1, y_train1)\n",
        "model.predict(X_test1).astype(int), y_test1\n",
        "model.score(X_test1, y_test1, sample_weight=None)"
      ],
      "execution_count": 103,
      "outputs": [
        {
          "output_type": "stream",
          "text": [
            "/usr/local/lib/python3.6/dist-packages/sklearn/base.py:434: FutureWarning: The default value of multioutput (not exposed in score method) will change from 'variance_weighted' to 'uniform_average' in 0.23 to keep consistent with 'metrics.r2_score'. To specify the default value manually and avoid the warning, please either call 'metrics.r2_score' directly or make a custom scorer with 'metrics.make_scorer' (the built-in scorer 'r2' uses multioutput='uniform_average').\n",
            "  \"multioutput='uniform_average').\", FutureWarning)\n"
          ],
          "name": "stderr"
        },
        {
          "output_type": "execute_result",
          "data": {
            "text/plain": [
              "0.5467529497000722"
            ]
          },
          "metadata": {
            "tags": []
          },
          "execution_count": 103
        }
      ]
    },
    {
      "cell_type": "markdown",
      "metadata": {
        "id": "B1OD5xkjoisy"
      },
      "source": [
        "We know that some of these features are related to eachother so linear regression may not be the most appropriate choice of a model. However, for this excercize, we are going to ignore that and assume the features are not dependant on eachother. "
      ]
    },
    {
      "cell_type": "code",
      "metadata": {
        "id": "-8VpUWgMFKcN",
        "outputId": "c9b056d6-7465-43be-d959-d8bc0c900c96",
        "colab": {
          "base_uri": "https://localhost:8080/",
          "height": 513
        }
      },
      "source": [
        "# Import `LinearRegression` from `sklearn.linear_model`\n",
        "from sklearn.linear_model import LinearRegression\n",
        "\n",
        "# Import `mean_absolute_error` from `sklearn.metrics`\n",
        "from sklearn.metrics import mean_absolute_error\n",
        "from sklearn.model_selection import cross_validate\n",
        "# Create Linear Regression model, fit model, and make predictions\n",
        "lr = LinearRegression(normalize=True)\n",
        "lr.fit(X_train1, y_train1)\n",
        "predictions = lr.predict(X_test1)\n",
        "\n",
        "# Determine mean absolute error\n",
        "mae = mean_absolute_error(y_test1, predictions,multioutput='uniform_average')\n",
        "print(lr.score(X_test1,y_test1))\n",
        "print(cross_validate(lr,X_train1,y_train1,cv=10))\n",
        "# Print `mae`\n",
        "print(mae)"
      ],
      "execution_count": 107,
      "outputs": [
        {
          "output_type": "stream",
          "text": [
            "/usr/local/lib/python3.6/dist-packages/sklearn/base.py:434: FutureWarning: The default value of multioutput (not exposed in score method) will change from 'variance_weighted' to 'uniform_average' in 0.23 to keep consistent with 'metrics.r2_score'. To specify the default value manually and avoid the warning, please either call 'metrics.r2_score' directly or make a custom scorer with 'metrics.make_scorer' (the built-in scorer 'r2' uses multioutput='uniform_average').\n",
            "  \"multioutput='uniform_average').\", FutureWarning)\n",
            "/usr/local/lib/python3.6/dist-packages/sklearn/base.py:434: FutureWarning: The default value of multioutput (not exposed in score method) will change from 'variance_weighted' to 'uniform_average' in 0.23 to keep consistent with 'metrics.r2_score'. To specify the default value manually and avoid the warning, please either call 'metrics.r2_score' directly or make a custom scorer with 'metrics.make_scorer' (the built-in scorer 'r2' uses multioutput='uniform_average').\n",
            "  \"multioutput='uniform_average').\", FutureWarning)\n",
            "/usr/local/lib/python3.6/dist-packages/sklearn/base.py:434: FutureWarning: The default value of multioutput (not exposed in score method) will change from 'variance_weighted' to 'uniform_average' in 0.23 to keep consistent with 'metrics.r2_score'. To specify the default value manually and avoid the warning, please either call 'metrics.r2_score' directly or make a custom scorer with 'metrics.make_scorer' (the built-in scorer 'r2' uses multioutput='uniform_average').\n",
            "  \"multioutput='uniform_average').\", FutureWarning)\n",
            "/usr/local/lib/python3.6/dist-packages/sklearn/base.py:434: FutureWarning: The default value of multioutput (not exposed in score method) will change from 'variance_weighted' to 'uniform_average' in 0.23 to keep consistent with 'metrics.r2_score'. To specify the default value manually and avoid the warning, please either call 'metrics.r2_score' directly or make a custom scorer with 'metrics.make_scorer' (the built-in scorer 'r2' uses multioutput='uniform_average').\n",
            "  \"multioutput='uniform_average').\", FutureWarning)\n",
            "/usr/local/lib/python3.6/dist-packages/sklearn/base.py:434: FutureWarning: The default value of multioutput (not exposed in score method) will change from 'variance_weighted' to 'uniform_average' in 0.23 to keep consistent with 'metrics.r2_score'. To specify the default value manually and avoid the warning, please either call 'metrics.r2_score' directly or make a custom scorer with 'metrics.make_scorer' (the built-in scorer 'r2' uses multioutput='uniform_average').\n",
            "  \"multioutput='uniform_average').\", FutureWarning)\n",
            "/usr/local/lib/python3.6/dist-packages/sklearn/base.py:434: FutureWarning: The default value of multioutput (not exposed in score method) will change from 'variance_weighted' to 'uniform_average' in 0.23 to keep consistent with 'metrics.r2_score'. To specify the default value manually and avoid the warning, please either call 'metrics.r2_score' directly or make a custom scorer with 'metrics.make_scorer' (the built-in scorer 'r2' uses multioutput='uniform_average').\n",
            "  \"multioutput='uniform_average').\", FutureWarning)\n",
            "/usr/local/lib/python3.6/dist-packages/sklearn/base.py:434: FutureWarning: The default value of multioutput (not exposed in score method) will change from 'variance_weighted' to 'uniform_average' in 0.23 to keep consistent with 'metrics.r2_score'. To specify the default value manually and avoid the warning, please either call 'metrics.r2_score' directly or make a custom scorer with 'metrics.make_scorer' (the built-in scorer 'r2' uses multioutput='uniform_average').\n",
            "  \"multioutput='uniform_average').\", FutureWarning)\n"
          ],
          "name": "stderr"
        },
        {
          "output_type": "stream",
          "text": [
            "0.32539426443905317\n",
            "{'fit_time': array([0.02395749, 0.03149343, 0.0193305 , 0.0204761 , 0.02145505,\n",
            "       0.02512264, 0.0196228 , 0.02091551, 0.01966691, 0.01980114]), 'score_time': array([0.00492406, 0.00450873, 0.0045166 , 0.00451374, 0.00507927,\n",
            "       0.00463271, 0.00864005, 0.00455618, 0.00446129, 0.00459337]), 'test_score': array([0.34288128, 0.35182719, 0.3298046 , 0.3163418 , 0.35057558,\n",
            "       0.29411389, 0.33298729, 0.36100569, 0.33626077, 0.34585952])}\n",
            "1.9803564745508981\n"
          ],
          "name": "stdout"
        },
        {
          "output_type": "stream",
          "text": [
            "/usr/local/lib/python3.6/dist-packages/sklearn/base.py:434: FutureWarning: The default value of multioutput (not exposed in score method) will change from 'variance_weighted' to 'uniform_average' in 0.23 to keep consistent with 'metrics.r2_score'. To specify the default value manually and avoid the warning, please either call 'metrics.r2_score' directly or make a custom scorer with 'metrics.make_scorer' (the built-in scorer 'r2' uses multioutput='uniform_average').\n",
            "  \"multioutput='uniform_average').\", FutureWarning)\n",
            "/usr/local/lib/python3.6/dist-packages/sklearn/base.py:434: FutureWarning: The default value of multioutput (not exposed in score method) will change from 'variance_weighted' to 'uniform_average' in 0.23 to keep consistent with 'metrics.r2_score'. To specify the default value manually and avoid the warning, please either call 'metrics.r2_score' directly or make a custom scorer with 'metrics.make_scorer' (the built-in scorer 'r2' uses multioutput='uniform_average').\n",
            "  \"multioutput='uniform_average').\", FutureWarning)\n",
            "/usr/local/lib/python3.6/dist-packages/sklearn/base.py:434: FutureWarning: The default value of multioutput (not exposed in score method) will change from 'variance_weighted' to 'uniform_average' in 0.23 to keep consistent with 'metrics.r2_score'. To specify the default value manually and avoid the warning, please either call 'metrics.r2_score' directly or make a custom scorer with 'metrics.make_scorer' (the built-in scorer 'r2' uses multioutput='uniform_average').\n",
            "  \"multioutput='uniform_average').\", FutureWarning)\n",
            "/usr/local/lib/python3.6/dist-packages/sklearn/base.py:434: FutureWarning: The default value of multioutput (not exposed in score method) will change from 'variance_weighted' to 'uniform_average' in 0.23 to keep consistent with 'metrics.r2_score'. To specify the default value manually and avoid the warning, please either call 'metrics.r2_score' directly or make a custom scorer with 'metrics.make_scorer' (the built-in scorer 'r2' uses multioutput='uniform_average').\n",
            "  \"multioutput='uniform_average').\", FutureWarning)\n"
          ],
          "name": "stderr"
        }
      ]
    },
    {
      "cell_type": "markdown",
      "metadata": {
        "id": "OY1rJM4npDHq"
      },
      "source": [
        "Overall the accuracy is less than the random forest ensamble but still good with an accuracy of 34 percent average across all the valadations. The mean average error is nearly 2 which is large when looking at baseball data. "
      ]
    },
    {
      "cell_type": "markdown",
      "metadata": {
        "id": "RJTJpRlpvZs6"
      },
      "source": [
        "A different type of regression model is RidgeCV. I mainly used this model because it directly incoorperates cross validation in the model and thought it may increase accuracy of the models. It proved to have nearly the same cross validation score as the linear regression model."
      ]
    },
    {
      "cell_type": "code",
      "metadata": {
        "id": "j8D1IeIxFh1e",
        "outputId": "940eccfd-78d1-4ce8-cdd9-417778fb915e",
        "colab": {
          "base_uri": "https://localhost:8080/",
          "height": 513
        }
      },
      "source": [
        "# Import `RidgeCV` from `sklearn.linear_model`\n",
        "from sklearn.linear_model import RidgeCV\n",
        "\n",
        "# Create Ridge Linear Regression model, fit model, and make predictions\n",
        "rrm = RidgeCV(alphas=(1e-3, 1e-2, 1e-1, 1), normalize=True)\n",
        "rrm.fit(X_train1, y_train1)\n",
        "predictions_rrm = rrm.predict(X_test1)\n",
        "\n",
        "# Determine mean absolute error\n",
        "mae_rrm = mean_absolute_error(y_test1, predictions_rrm)\n",
        "print(rrm.score(X_test1,y_test1))\n",
        "print(cross_validate(rrm,X_train1,y_train1,cv=10))\n",
        "print(mae_rrm)"
      ],
      "execution_count": 109,
      "outputs": [
        {
          "output_type": "stream",
          "text": [
            "/usr/local/lib/python3.6/dist-packages/sklearn/base.py:434: FutureWarning: The default value of multioutput (not exposed in score method) will change from 'variance_weighted' to 'uniform_average' in 0.23 to keep consistent with 'metrics.r2_score'. To specify the default value manually and avoid the warning, please either call 'metrics.r2_score' directly or make a custom scorer with 'metrics.make_scorer' (the built-in scorer 'r2' uses multioutput='uniform_average').\n",
            "  \"multioutput='uniform_average').\", FutureWarning)\n",
            "/usr/local/lib/python3.6/dist-packages/sklearn/base.py:434: FutureWarning: The default value of multioutput (not exposed in score method) will change from 'variance_weighted' to 'uniform_average' in 0.23 to keep consistent with 'metrics.r2_score'. To specify the default value manually and avoid the warning, please either call 'metrics.r2_score' directly or make a custom scorer with 'metrics.make_scorer' (the built-in scorer 'r2' uses multioutput='uniform_average').\n",
            "  \"multioutput='uniform_average').\", FutureWarning)\n",
            "/usr/local/lib/python3.6/dist-packages/sklearn/base.py:434: FutureWarning: The default value of multioutput (not exposed in score method) will change from 'variance_weighted' to 'uniform_average' in 0.23 to keep consistent with 'metrics.r2_score'. To specify the default value manually and avoid the warning, please either call 'metrics.r2_score' directly or make a custom scorer with 'metrics.make_scorer' (the built-in scorer 'r2' uses multioutput='uniform_average').\n",
            "  \"multioutput='uniform_average').\", FutureWarning)\n",
            "/usr/local/lib/python3.6/dist-packages/sklearn/base.py:434: FutureWarning: The default value of multioutput (not exposed in score method) will change from 'variance_weighted' to 'uniform_average' in 0.23 to keep consistent with 'metrics.r2_score'. To specify the default value manually and avoid the warning, please either call 'metrics.r2_score' directly or make a custom scorer with 'metrics.make_scorer' (the built-in scorer 'r2' uses multioutput='uniform_average').\n",
            "  \"multioutput='uniform_average').\", FutureWarning)\n"
          ],
          "name": "stderr"
        },
        {
          "output_type": "stream",
          "text": [
            "0.32676148415916406\n"
          ],
          "name": "stdout"
        },
        {
          "output_type": "stream",
          "text": [
            "/usr/local/lib/python3.6/dist-packages/sklearn/base.py:434: FutureWarning: The default value of multioutput (not exposed in score method) will change from 'variance_weighted' to 'uniform_average' in 0.23 to keep consistent with 'metrics.r2_score'. To specify the default value manually and avoid the warning, please either call 'metrics.r2_score' directly or make a custom scorer with 'metrics.make_scorer' (the built-in scorer 'r2' uses multioutput='uniform_average').\n",
            "  \"multioutput='uniform_average').\", FutureWarning)\n",
            "/usr/local/lib/python3.6/dist-packages/sklearn/base.py:434: FutureWarning: The default value of multioutput (not exposed in score method) will change from 'variance_weighted' to 'uniform_average' in 0.23 to keep consistent with 'metrics.r2_score'. To specify the default value manually and avoid the warning, please either call 'metrics.r2_score' directly or make a custom scorer with 'metrics.make_scorer' (the built-in scorer 'r2' uses multioutput='uniform_average').\n",
            "  \"multioutput='uniform_average').\", FutureWarning)\n",
            "/usr/local/lib/python3.6/dist-packages/sklearn/base.py:434: FutureWarning: The default value of multioutput (not exposed in score method) will change from 'variance_weighted' to 'uniform_average' in 0.23 to keep consistent with 'metrics.r2_score'. To specify the default value manually and avoid the warning, please either call 'metrics.r2_score' directly or make a custom scorer with 'metrics.make_scorer' (the built-in scorer 'r2' uses multioutput='uniform_average').\n",
            "  \"multioutput='uniform_average').\", FutureWarning)\n",
            "/usr/local/lib/python3.6/dist-packages/sklearn/base.py:434: FutureWarning: The default value of multioutput (not exposed in score method) will change from 'variance_weighted' to 'uniform_average' in 0.23 to keep consistent with 'metrics.r2_score'. To specify the default value manually and avoid the warning, please either call 'metrics.r2_score' directly or make a custom scorer with 'metrics.make_scorer' (the built-in scorer 'r2' uses multioutput='uniform_average').\n",
            "  \"multioutput='uniform_average').\", FutureWarning)\n"
          ],
          "name": "stderr"
        },
        {
          "output_type": "stream",
          "text": [
            "{'fit_time': array([0.05081105, 0.04933   , 0.05202556, 0.06101632, 0.06207752,\n",
            "       0.05299759, 0.05131269, 0.06643319, 0.05388021, 0.05712104]), 'score_time': array([0.0045929 , 0.00446749, 0.00445175, 0.00473619, 0.00458717,\n",
            "       0.00459051, 0.00444746, 0.0048337 , 0.00487876, 0.00476408]), 'test_score': array([0.34250566, 0.35201676, 0.33094482, 0.31647538, 0.34969643,\n",
            "       0.29537615, 0.33278409, 0.36090796, 0.3369381 , 0.34711943])}\n",
            "1.9808233817484033\n"
          ],
          "name": "stdout"
        },
        {
          "output_type": "stream",
          "text": [
            "/usr/local/lib/python3.6/dist-packages/sklearn/base.py:434: FutureWarning: The default value of multioutput (not exposed in score method) will change from 'variance_weighted' to 'uniform_average' in 0.23 to keep consistent with 'metrics.r2_score'. To specify the default value manually and avoid the warning, please either call 'metrics.r2_score' directly or make a custom scorer with 'metrics.make_scorer' (the built-in scorer 'r2' uses multioutput='uniform_average').\n",
            "  \"multioutput='uniform_average').\", FutureWarning)\n",
            "/usr/local/lib/python3.6/dist-packages/sklearn/base.py:434: FutureWarning: The default value of multioutput (not exposed in score method) will change from 'variance_weighted' to 'uniform_average' in 0.23 to keep consistent with 'metrics.r2_score'. To specify the default value manually and avoid the warning, please either call 'metrics.r2_score' directly or make a custom scorer with 'metrics.make_scorer' (the built-in scorer 'r2' uses multioutput='uniform_average').\n",
            "  \"multioutput='uniform_average').\", FutureWarning)\n",
            "/usr/local/lib/python3.6/dist-packages/sklearn/base.py:434: FutureWarning: The default value of multioutput (not exposed in score method) will change from 'variance_weighted' to 'uniform_average' in 0.23 to keep consistent with 'metrics.r2_score'. To specify the default value manually and avoid the warning, please either call 'metrics.r2_score' directly or make a custom scorer with 'metrics.make_scorer' (the built-in scorer 'r2' uses multioutput='uniform_average').\n",
            "  \"multioutput='uniform_average').\", FutureWarning)\n"
          ],
          "name": "stderr"
        }
      ]
    },
    {
      "cell_type": "markdown",
      "metadata": {
        "id": "LZpaZFadv-yk"
      },
      "source": [
        "Overall I think that if I had a better understanding on the impact of points scored/ alowed on the teams elo I would have a better way to anticipate the score of the game. Perhaps the addition of more statistics like ERA and Batting average/ runs per game could help in increasing the accuracy of the models predictions. "
      ]
    }
  ]
}